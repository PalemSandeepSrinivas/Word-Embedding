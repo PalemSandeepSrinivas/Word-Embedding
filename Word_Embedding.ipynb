{
  "cells": [
    {
      "cell_type": "markdown",
      "metadata": {
        "id": "view-in-github",
        "colab_type": "text"
      },
      "source": [
        "<a href=\"https://colab.research.google.com/github/PalemSandeepSrinivas/Word-Embedding/blob/main/Word_Embedding.ipynb\" target=\"_parent\"><img src=\"https://colab.research.google.com/assets/colab-badge.svg\" alt=\"Open In Colab\"/></a>"
      ]
    },
    {
      "cell_type": "markdown",
      "metadata": {
        "id": "emKXn3AlNduD"
      },
      "source": [
        "# Importing Necessary Libraries"
      ]
    },
    {
      "cell_type": "code",
      "execution_count": 1,
      "metadata": {
        "id": "l2M8OZ2HNjC8"
      },
      "outputs": [],
      "source": [
        "import pandas as pd\n",
        "import numpy as np\n",
        "import warnings\n",
        "warnings.filterwarnings(\"ignore\")"
      ]
    },
    {
      "cell_type": "markdown",
      "source": [
        "## Create a data folder and loading packages"
      ],
      "metadata": {
        "id": "XFKXEbZaxzx_"
      }
    },
    {
      "cell_type": "code",
      "execution_count": 2,
      "metadata": {
        "colab": {
          "base_uri": "https://localhost:8080/"
        },
        "id": "4KNOnIEINjFj",
        "outputId": "73ef4e00-9315-467a-dd76-4656f0da285f"
      },
      "outputs": [
        {
          "output_type": "stream",
          "name": "stdout",
          "text": [
            "--2023-07-08 13:09:15--  https://dl.fbaipublicfiles.com/fasttext/vectors-english/wiki-news-300d-1M.vec.zip\n",
            "Resolving dl.fbaipublicfiles.com (dl.fbaipublicfiles.com)... 13.35.7.38, 13.35.7.128, 13.35.7.82, ...\n",
            "Connecting to dl.fbaipublicfiles.com (dl.fbaipublicfiles.com)|13.35.7.38|:443... connected.\n",
            "HTTP request sent, awaiting response... 200 OK\n",
            "Length: 681808098 (650M) [application/zip]\n",
            "Saving to: ‘data/wiki-news-300d-1M.vec.zip’\n",
            "\n",
            "wiki-news-300d-1M.v 100%[===================>] 650.22M  94.7MB/s    in 6.5s    \n",
            "\n",
            "2023-07-08 13:09:22 (99.5 MB/s) - ‘data/wiki-news-300d-1M.vec.zip’ saved [681808098/681808098]\n",
            "\n",
            "--2023-07-08 13:09:22--  https://nlp.stanford.edu/data/glove.6B.zip\n",
            "Resolving nlp.stanford.edu (nlp.stanford.edu)... 171.64.67.140\n",
            "Connecting to nlp.stanford.edu (nlp.stanford.edu)|171.64.67.140|:443... connected.\n",
            "HTTP request sent, awaiting response... 301 Moved Permanently\n",
            "Location: https://downloads.cs.stanford.edu/nlp/data/glove.6B.zip [following]\n",
            "--2023-07-08 13:09:23--  https://downloads.cs.stanford.edu/nlp/data/glove.6B.zip\n",
            "Resolving downloads.cs.stanford.edu (downloads.cs.stanford.edu)... 171.64.64.22\n",
            "Connecting to downloads.cs.stanford.edu (downloads.cs.stanford.edu)|171.64.64.22|:443... connected.\n",
            "HTTP request sent, awaiting response... 200 OK\n",
            "Length: 862182613 (822M) [application/zip]\n",
            "Saving to: ‘data/glove.6B.zip’\n",
            "\n",
            "glove.6B.zip        100%[===================>] 822.24M  5.02MB/s    in 2m 39s  \n",
            "\n",
            "2023-07-08 13:12:02 (5.18 MB/s) - ‘data/glove.6B.zip’ saved [862182613/862182613]\n",
            "\n"
          ]
        }
      ],
      "source": [
        "# Make data directory if it doesn't exist\n",
        "# Fasttext and Glove data Links\n",
        "\n",
        "# https://dl.fbaipublicfiles.com/fasttext/vectors-english/wiki-news-300d-1M.vec.zip\n",
        "# https://nlp.stanford.edu/data/glove.6B.zip\n",
        "\n",
        "# Making a Directory with name data and loding file into it\n",
        "!mkdir -p data\n",
        "!wget -nc https://dl.fbaipublicfiles.com/fasttext/vectors-english/wiki-news-300d-1M.vec.zip -P data\n",
        "!wget -nc https://nlp.stanford.edu/data/glove.6B.zip -P data"
      ]
    },
    {
      "cell_type": "markdown",
      "source": [
        "## Unzip the two file on to the local space"
      ],
      "metadata": {
        "id": "Z5Qa9kdyxMPs"
      }
    },
    {
      "cell_type": "code",
      "execution_count": 3,
      "metadata": {
        "id": "l_qsaEqwNjIE"
      },
      "outputs": [],
      "source": [
        "\n",
        "\n",
        "import zipfile\n",
        "\n",
        "fast_text_path = \"/content/data/wiki-news-300d-1M.vec.zip\"\n",
        "glove_text_path = \"/content/data/glove.6B.zip\"\n",
        "\n",
        "with zipfile.ZipFile(fast_text_path, 'r') as zip_ref:\n",
        "    zip_ref.extractall(\"/content/\")\n",
        "\n",
        "with zipfile.ZipFile(glove_text_path,'r') as zip_ref:\n",
        "    zip_ref.extractall(\"/content/\")"
      ]
    },
    {
      "cell_type": "markdown",
      "source": [
        "## Loading the model into variables"
      ],
      "metadata": {
        "id": "O41iG8ihx7Yv"
      }
    },
    {
      "cell_type": "code",
      "execution_count": 4,
      "metadata": {
        "id": "Q7xzUjqMNjOr"
      },
      "outputs": [],
      "source": [
        "from gensim.models import KeyedVectors\n",
        "\n",
        "# Load FastText word embeddings\n",
        "fasttext_model = KeyedVectors.load_word2vec_format('/content/wiki-news-300d-1M.vec', binary=False)\n",
        "\n",
        "# Load GloVe word embeddings\n",
        "glove_model = KeyedVectors.load_word2vec_format('/content/glove.6B.300d.txt', binary=False,no_header=True)"
      ]
    },
    {
      "cell_type": "markdown",
      "source": [
        "## Lowering the words to small case and applying the Fast_text model on to the words"
      ],
      "metadata": {
        "id": "gkI9nsTzyBRk"
      }
    },
    {
      "cell_type": "code",
      "source": [
        "# Get the word vectors\n",
        "\n",
        "word1 = \"Microsoft\".lower()\n",
        "word2 = \"Facebook\".lower()\n",
        "word3 = \"Dolphin\".lower()\n",
        "\n",
        "# First Using Fast_text\n",
        "\n",
        "microsoft_vector_fasttext = fasttext_model[word1]\n",
        "facebook_vector_fasttext = fasttext_model[word2]\n",
        "Dolhin_vector_fasttext = fasttext_model[word3]\n",
        "# print(microsoft_vector_fasttext,facebook_vector_fasttext)"
      ],
      "metadata": {
        "id": "qxVcuk_jg6td"
      },
      "execution_count": 9,
      "outputs": []
    },
    {
      "cell_type": "markdown",
      "source": [
        "## Applying the Glove model on to the words"
      ],
      "metadata": {
        "id": "kWKo1h9GyGIP"
      }
    },
    {
      "cell_type": "code",
      "source": [
        "# Using Glove\n",
        "\n",
        "microsoft_vector_glove = glove_model[word1]\n",
        "facebook_vector_glove = glove_model[word2]\n",
        "Dolhpin_vector_fasttext = glove_model[word3]\n",
        "# print(microsoft_vector_glove,facebook_vector_glove)"
      ],
      "metadata": {
        "id": "Eh1TIXzkiDGl"
      },
      "execution_count": 10,
      "outputs": []
    },
    {
      "cell_type": "markdown",
      "source": [
        "##  Calculate cosine similarity between Microsoft and Facebook"
      ],
      "metadata": {
        "id": "z7njVzwXk6NA"
      }
    },
    {
      "cell_type": "code",
      "execution_count": 11,
      "metadata": {
        "id": "dyIzVB9rNjTt",
        "colab": {
          "base_uri": "https://localhost:8080/"
        },
        "outputId": "9ab3e3b8-640a-4d5e-cd66-e2a77309a045"
      },
      "outputs": [
        {
          "output_type": "stream",
          "name": "stdout",
          "text": [
            "Cosine similarity using FastText: 0.4398\n",
            "\n",
            "Cosine similarity using GloVe: 0.4328\n"
          ]
        }
      ],
      "source": [
        "from sklearn.metrics.pairwise import cosine_similarity\n",
        "\n",
        "cosine_sim_fasttext = cosine_similarity([microsoft_vector_fasttext], [facebook_vector_fasttext])[0][0]\n",
        "cosine_sim_glove = cosine_similarity([microsoft_vector_glove], [facebook_vector_glove])[0][0]\n",
        "\n",
        "# Print the cosine similarity scores\n",
        "print(\"Cosine similarity using FastText:\", round(cosine_sim_fasttext,4))\n",
        "print()\n",
        "print(\"Cosine similarity using GloVe:\", round(cosine_sim_glove,4))\n"
      ]
    },
    {
      "cell_type": "markdown",
      "source": [
        "##  Calculate cosine similarity between Microsoft and Dolphin"
      ],
      "metadata": {
        "id": "ifkTfNjslAIW"
      }
    },
    {
      "cell_type": "code",
      "execution_count": 12,
      "metadata": {
        "id": "101A587INjWN",
        "colab": {
          "base_uri": "https://localhost:8080/"
        },
        "outputId": "f92f11e0-0521-484f-e778-f15c98859daa"
      },
      "outputs": [
        {
          "output_type": "stream",
          "name": "stdout",
          "text": [
            "Cosine similarity using FastText: -0.0054\n",
            "\n",
            "Cosine similarity using GloVe: -0.0433\n"
          ]
        }
      ],
      "source": [
        "cosine_sim_fasttext = cosine_similarity([microsoft_vector_fasttext], [Dolhpin_vector_fasttext])[0][0]\n",
        "cosine_sim_glove = cosine_similarity([microsoft_vector_glove], [Dolhpin_vector_fasttext])[0][0]\n",
        "\n",
        "# Print the cosine similarity scores\n",
        "print(\"Cosine similarity using FastText:\", round(cosine_sim_fasttext,4))\n",
        "print()\n",
        "print(\"Cosine similarity using GloVe:\", round(cosine_sim_glove,4))"
      ]
    },
    {
      "cell_type": "markdown",
      "source": [
        "## Insights between Microsoft and Facebook"
      ],
      "metadata": {
        "id": "ROsuWjchNjY0"
      }
    },
    {
      "cell_type": "markdown",
      "source": [
        "* Similarity Scores: The cosine similarity scores indicate the similarity between the word vectors of 'Microsoft' and 'Facebook' in the respective embedding spaces. A cosine similarity score ranges from -1 to 1, where a score closer to 1 indicates higher similarity and a score closer to -1 indicates dissimilarity.\n",
        "\n",
        "* Similarity Comparison: Both FastText and GloVe embeddings show relatively high cosine similarity scores for 'Microsoft' and 'Facebook'. The scores of 0.4398 (FastText) and 0.4328 (GloVe) suggest that there is some level of similarity between the word vectors of these two words."
      ],
      "metadata": {
        "id": "qaNcjrmqmEIt"
      }
    },
    {
      "cell_type": "markdown",
      "source": [
        "## Insights between Microsoft and Dolphin"
      ],
      "metadata": {
        "id": "zN82TegFmLtd"
      }
    },
    {
      "cell_type": "markdown",
      "source": [
        "\n",
        "* The cosine similarity scores for both FastText and GloVe are close to zero, indicating a weak similarity or dissimilarity between the words 'Microsoft' and 'Dolphin'.\n",
        "* The negative values suggest that the vectors of these words have an opposite or orthogonal direction in the embedding space.\n",
        "* Since 'Microsoft' and 'Dolphin' are unrelated words, it aligns with our expectation that they would have low cosine similarity scores.\n",
        "* FastText and GloVe are different word embedding models trained on different data sources, so their cosine similarity scores may vary.\n",
        "\n",
        "* Based on these insights, we can conclude that 'Microsoft' and 'Dolphin' are dissimilar words according to the embedding models, and they do not exhibit any significant semantic or contextual similarity."
      ],
      "metadata": {
        "id": "8rYbRz03mZOJ"
      }
    },
    {
      "cell_type": "code",
      "source": [],
      "metadata": {
        "id": "UFDAqQ8ym-Lr"
      },
      "execution_count": 8,
      "outputs": []
    }
  ],
  "metadata": {
    "colab": {
      "provenance": [],
      "authorship_tag": "ABX9TyOiLrKdjoDGaDtcrsMwp6fZ",
      "include_colab_link": true
    },
    "kernelspec": {
      "display_name": "Python 3",
      "name": "python3"
    },
    "language_info": {
      "name": "python"
    }
  },
  "nbformat": 4,
  "nbformat_minor": 0
}